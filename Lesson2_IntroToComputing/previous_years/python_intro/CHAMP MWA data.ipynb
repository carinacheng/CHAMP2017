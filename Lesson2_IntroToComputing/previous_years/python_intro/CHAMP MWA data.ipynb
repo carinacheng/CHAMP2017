{
 "cells": [
  {
   "cell_type": "code",
   "execution_count": 10,
   "metadata": {
    "collapsed": true
   },
   "outputs": [],
   "source": [
    "import pyuvdata\n",
    "import copy\n",
    "import numpy as np"
   ]
  },
  {
   "cell_type": "code",
   "execution_count": 4,
   "metadata": {
    "collapsed": false
   },
   "outputs": [
    {
     "name": "stderr",
     "output_type": "stream",
     "text": [
      "Required Antenna frame keyword not set, setting to ????\n",
      "telescope_location is not set. Using known values for MWA.\n"
     ]
    }
   ],
   "source": [
    "uvfits_file = '/Volumes/Data1/fhd_vis_data/1061321792.uvfits'\n",
    "uv = pyuvdata.UVData()\n",
    "uv.read_uvfits(uvfits_file)"
   ]
  },
  {
   "cell_type": "code",
   "execution_count": 5,
   "metadata": {
    "collapsed": false
   },
   "outputs": [
    {
     "data": {
      "text/plain": [
       "(455168, 1, 384, 4)"
      ]
     },
     "execution_count": 5,
     "metadata": {},
     "output_type": "execute_result"
    }
   ],
   "source": [
    "uv.data_array.shape"
   ]
  },
  {
   "cell_type": "code",
   "execution_count": 8,
   "metadata": {
    "collapsed": false
   },
   "outputs": [],
   "source": [
    "uv2=copy.deepcopy(uv)"
   ]
  },
  {
   "cell_type": "code",
   "execution_count": 37,
   "metadata": {
    "collapsed": false
   },
   "outputs": [],
   "source": [
    "unique_times = np.unique(uv.time_array)\n",
    "uv2.select(times=unique_times[0], polarizations=[-5], blt_inds=np.where(uv2.ant_1_array == uv2.ant_2_array)[0])"
   ]
  },
  {
   "cell_type": "code",
   "execution_count": 38,
   "metadata": {
    "collapsed": false
   },
   "outputs": [
    {
     "data": {
      "text/plain": [
       "(127, 1, 384, 1)"
      ]
     },
     "execution_count": 38,
     "metadata": {},
     "output_type": "execute_result"
    }
   ],
   "source": [
    "uv2.data_array.shape"
   ]
  },
  {
   "cell_type": "code",
   "execution_count": 39,
   "metadata": {
    "collapsed": false
   },
   "outputs": [
    {
     "data": {
      "text/plain": [
       "(dtype('float32'), (127, 384))"
      ]
     },
     "execution_count": 39,
     "metadata": {},
     "output_type": "execute_result"
    }
   ],
   "source": [
    "spectra = np.squeeze(np.abs(uv2.data_array))\n",
    "spectra.dtype, spectra.shape"
   ]
  },
  {
   "cell_type": "code",
   "execution_count": 40,
   "metadata": {
    "collapsed": false
   },
   "outputs": [],
   "source": [
    "csv_file = 'spectra-01.csv'\n",
    "np.savetxt(csv_file, spectra, delimiter=\",\")"
   ]
  },
  {
   "cell_type": "code",
   "execution_count": 46,
   "metadata": {
    "collapsed": false
   },
   "outputs": [
    {
     "name": "stdout",
     "output_type": "stream",
     "text": [
      "01\n"
     ]
    }
   ],
   "source": [
    "a=0\n",
    "print(str(a+1).zfill(2))"
   ]
  },
  {
   "cell_type": "code",
   "execution_count": 52,
   "metadata": {
    "collapsed": false
   },
   "outputs": [
    {
     "name": "stdout",
     "output_type": "stream",
     "text": [
      "1\n"
     ]
    }
   ],
   "source": [
    "uv_autos = copy.deepcopy(uv)\n",
    "uv_autos.select(blt_inds=np.where(uv2.ant_1_array == uv2.ant_2_array)[0])\n",
    "unique_times = np.unique(uv_autos.time_array)\n",
    "print(len(unique_times))"
   ]
  },
  {
   "cell_type": "code",
   "execution_count": 53,
   "metadata": {
    "collapsed": false
   },
   "outputs": [],
   "source": [
    "uv_autos_xx = copy.deepcopy(uv_autos)\n",
    "uv_autos_xx.select(polarizations=[-5])"
   ]
  },
  {
   "cell_type": "code",
   "execution_count": null,
   "metadata": {
    "collapsed": true
   },
   "outputs": [],
   "source": [
    "for t in range(0,12):\n",
    "    uv_new = copy.deepcopy(uv_autos_xx)\n",
    "    uv_new.select(times=unique_times[t])\n",
    "    spectra = np.squeeze(np.abs(uv_new.data_array))\n",
    "    csv_file = 'spectra-' + str(a+1).zfill(2) + '.csv'\n",
    "    np.savetxt(csv_file, spectra, delimiter=\",\")"
   ]
  }
 ],
 "metadata": {
  "kernelspec": {
   "display_name": "Python 2",
   "language": "python",
   "name": "python2"
  },
  "language_info": {
   "codemirror_mode": {
    "name": "ipython",
    "version": 2
   },
   "file_extension": ".py",
   "mimetype": "text/x-python",
   "name": "python",
   "nbconvert_exporter": "python",
   "pygments_lexer": "ipython2",
   "version": "2.7.11"
  }
 },
 "nbformat": 4,
 "nbformat_minor": 0
}
