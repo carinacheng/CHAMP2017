{
 "cells": [
  {
   "cell_type": "markdown",
   "metadata": {},
   "source": [
    "# Fourier Identities"
   ]
  },
  {
   "cell_type": "code",
   "execution_count": 1,
   "metadata": {},
   "outputs": [
    {
     "name": "stdout",
     "output_type": "stream",
     "text": [
      "Populating the interactive namespace from numpy and matplotlib\n"
     ]
    }
   ],
   "source": [
    "import numpy as np\n",
    "%pylab inline"
   ]
  },
  {
   "cell_type": "markdown",
   "metadata": {},
   "source": [
    "In this notebook, we'll explore some handy identities associated with the Fourier transform:\n",
    "\n",
    "$\\tilde{g} (f) \\equiv \\int_{-\\infty}^{\\infty} g(t) e^{-i 2 \\pi ft} dt$\n",
    "\n",
    "and its inverse:\n",
    "\n",
    "$g(t) \\equiv \\int_{-\\infty}^{\\infty} \\tilde{g} (f) e^{i 2 \\pi ft} df$."
   ]
  },
  {
   "cell_type": "markdown",
   "metadata": {},
   "source": [
    "## The Fourier transform of a Gaussian"
   ]
  },
  {
   "cell_type": "markdown",
   "metadata": {},
   "source": [
    "The Gaussian function is given by\n",
    "\n",
    "$g(t) = \\frac{1}{\\sqrt{2 \\pi a^2}}\\exp \\left[-\\frac{(t-b)^2}{2 a^2}\\right]$,\n",
    "\n",
    "and is charaterized by two parameters, the location $b$ of its peak, and its width $a$ (rigorously, this width is defined as the standard deviation of the curve). Because of the way Gaussians look, they're often also known as Bell curves:"
   ]
  },
  {
   "cell_type": "code",
   "execution_count": 2,
   "metadata": {
    "collapsed": true
   },
   "outputs": [],
   "source": [
    "def gauss(t,a,b):\n",
    "    exponent = -(t-b)**2\n",
    "    exponent /= 2*a**2\n",
    "    return np.exp(exponent)/np.sqrt(2.*np.pi*a**2)"
   ]
  },
  {
   "cell_type": "code",
   "execution_count": 3,
   "metadata": {},
   "outputs": [
    {
     "data": {
      "text/plain": [
       "(-0.2, 1.2)"
      ]
     },
     "execution_count": 3,
     "metadata": {},
     "output_type": "execute_result"
    },
    {
     "data": {
      "image/png": "[encoded data removed]",
      "text/plain": [
       "<matplotlib.figure.Figure at 0x10fe7e310>"
      ]
     },
     "metadata": {},
     "output_type": "display_data"
    }
   ],
   "source": [
    "t_coords = np.linspace(-10.,10.,1025)[:-1]\n",
    "\n",
    "f, ax = plt.subplots(figsize=(9,6))\n",
    "ax.plot(t_coords,gauss(t_coords,0.5,0.),lw=2,c='red')\n",
    "ax.set_xlabel(r\"$t$\")\n",
    "ax.set_ylabel(r\"$g(t)$\")\n",
    "ax.set_ylim(-0.2, 1.2)"
   ]
  },
  {
   "cell_type": "markdown",
   "metadata": {},
   "source": [
    "## Handy properties"
   ]
  },
  {
   "cell_type": "markdown",
   "metadata": {},
   "source": [
    "<b> Q1. If $g(t)$ is multiplied by some factor, what happens to $\\tilde{g}(f)$?"
   ]
  },
  {
   "cell_type": "markdown",
   "metadata": {},
   "source": [
    "<b> Solution:"
   ]
  },
  {
   "cell_type": "code",
   "execution_count": null,
   "metadata": {
    "collapsed": true
   },
   "outputs": [],
   "source": []
  },
  {
   "cell_type": "markdown",
   "metadata": {},
   "source": [
    "<b> Q2. Suppose $g(t)$ is real, but not necessarily even or odd. Without knowing any more about its functional form, are there any symmetries you notice its Fourier transform?"
   ]
  },
  {
   "cell_type": "markdown",
   "metadata": {},
   "source": [
    "<b> Solution:"
   ]
  },
  {
   "cell_type": "code",
   "execution_count": null,
   "metadata": {
    "collapsed": true
   },
   "outputs": [],
   "source": []
  },
  {
   "cell_type": "markdown",
   "metadata": {},
   "source": [
    "<b> Q3. Suppose that before we Fourier transform $g(t)$, we first multiply it by $\\exp(i 2\\pi \\gamma t)$. What does this do to its Fourier transform?"
   ]
  },
  {
   "cell_type": "markdown",
   "metadata": {},
   "source": [
    "<b> Solution:"
   ]
  },
  {
   "cell_type": "code",
   "execution_count": null,
   "metadata": {
    "collapsed": true
   },
   "outputs": [],
   "source": []
  }
 ],
 "metadata": {
  "kernelspec": {
   "display_name": "Python 3",
   "language": "python",
   "name": "python3"
  },
  "language_info": {
   "codemirror_mode": {
    "name": "ipython",
    "version": 3
   },
   "file_extension": ".py",
   "mimetype": "text/x-python",
   "name": "python",
   "nbconvert_exporter": "python",
   "pygments_lexer": "ipython3",
   "version": "3.7.6"
  }
 },
 "nbformat": 4,
 "nbformat_minor": 1
}
