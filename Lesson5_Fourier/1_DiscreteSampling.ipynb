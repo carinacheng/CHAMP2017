{
 "cells": [
  {
   "cell_type": "markdown",
   "metadata": {},
   "source": [
    "# An Interesting Observation Regarding Discrete Data"
   ]
  },
  {
   "cell_type": "code",
   "execution_count": 1,
   "metadata": {},
   "outputs": [
    {
     "name": "stdout",
     "output_type": "stream",
     "text": [
      "Populating the interactive namespace from numpy and matplotlib\n"
     ]
    }
   ],
   "source": [
    "import numpy as np\n",
    "%pylab inline"
   ]
  },
  {
   "cell_type": "markdown",
   "metadata": {},
   "source": [
    "In this notebook, we make an interesting observation about dealing with sines and cosines of discrete data. Let's begin by plotting\n",
    "\n",
    "$g(t) = 5 \\sin \\left(\\frac{2 \\pi t }{ T } \\right)$, with $T=0.5$\n",
    "\n",
    "To make this look like a nice continuous function, we typically pick a pretty fine grid of $t$ values to plot. Let's go from $t=0$ to $t=1$, spread over $129$ points.\n",
    "\n",
    "Notice that $T=0.5$ corresponds to a frequency of $f=1/0.5 =2$ Hz."
   ]
  },
  {
   "cell_type": "code",
   "execution_count": 2,
   "metadata": {},
   "outputs": [],
   "source": [
    "t = np.linspace(0., 1.0, 129)\n",
    "g_fct = 5. * np.sin(2. * np.pi * t / 0.5)"
   ]
  },
  {
   "cell_type": "code",
   "execution_count": 3,
   "metadata": {},
   "outputs": [
    {
     "data": {
      "text/plain": [
       "Text(0, 0.5, '$g(t)$')"
      ]
     },
     "execution_count": 3,
     "metadata": {},
     "output_type": "execute_result"
    },
    {
     "data": {
      "image/png": "[encoded data removed]",
      "text/plain": [
       "<Figure size 648x432 with 1 Axes>"
      ]
     },
     "metadata": {
      "needs_background": "light"
     },
     "output_type": "display_data"
    }
   ],
   "source": [
    "f, ax = plt.subplots(figsize=(9,6))\n",
    "ax.plot(t,g_fct,lw=2,c='red',marker='o')\n",
    "ax.set_xlabel(r\"$t$\")\n",
    "ax.set_ylabel(r\"$g(t)$\")"
   ]
  },
  {
   "cell_type": "markdown",
   "metadata": {},
   "source": [
    "<b> Q1. Warm-up exercise: Make a similar plot but with just 33 points along the $t$ axis."
   ]
  },
  {
   "cell_type": "markdown",
   "metadata": {},
   "source": [
    "<b> Solution:"
   ]
  },
  {
   "cell_type": "code",
   "execution_count": null,
   "metadata": {},
   "outputs": [],
   "source": []
  },
  {
   "cell_type": "markdown",
   "metadata": {},
   "source": [
    "<b> Q2. Now do the same (with 33 points along the $t$ axis) but for $T=1/66\\approx 0.015$.  Notice that since this period is much *shorter* than $T=0.5$, the frequency of the oscillation should be *faster*.  Plot the new set of points on top of the old ones, but in black and using \"x\" markers instead of circles. Think about what you expect this to look like (how much faster should the oscillation be?), and then make the plots. Warning: counterintuitive result coming up!"
   ]
  },
  {
   "cell_type": "markdown",
   "metadata": {},
   "source": [
    "<b> Solution:"
   ]
  },
  {
   "cell_type": "code",
   "execution_count": null,
   "metadata": {},
   "outputs": [],
   "source": []
  },
  {
   "cell_type": "markdown",
   "metadata": {},
   "source": [
    "<b> Q3. Make sense of what's going on by repeating the last problem but with $129$ points along the $t$ axis. Can you explain what happened?"
   ]
  },
  {
   "cell_type": "markdown",
   "metadata": {},
   "source": [
    "<b> Solution:"
   ]
  },
  {
   "cell_type": "code",
   "execution_count": null,
   "metadata": {},
   "outputs": [],
   "source": []
  }
 ],
 "metadata": {
  "kernelspec": {
   "display_name": "hera",
   "language": "python",
   "name": "hera"
  },
  "language_info": {
   "codemirror_mode": {
    "name": "ipython",
    "version": 3
   },
   "file_extension": ".py",
   "mimetype": "text/x-python",
   "name": "python",
   "nbconvert_exporter": "python",
   "pygments_lexer": "ipython3",
   "version": "3.7.7"
  }
 },
 "nbformat": 4,
 "nbformat_minor": 2
}
