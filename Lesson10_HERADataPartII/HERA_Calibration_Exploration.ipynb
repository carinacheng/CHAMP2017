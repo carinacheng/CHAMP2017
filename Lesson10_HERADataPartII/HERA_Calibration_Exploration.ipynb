{
 "cells": [
  {
   "cell_type": "markdown",
   "metadata": {},
   "source": [
    "# HERA Data Part II : Calibration Exploration\n",
    "\n",
    "**CHAMP Bootcamp**\n",
    "<br>\n",
    "**June 15, 2021**\n",
    "<br>"
   ]
  },
  {
   "cell_type": "markdown",
   "metadata": {
    "collapsed": true
   },
   "source": [
    "In this demo we will explore HERA data, calibration solutions, and how to apply them to the data."
   ]
  },
  {
   "cell_type": "code",
   "execution_count": null,
   "metadata": {},
   "outputs": [],
   "source": [
    "%matplotlib notebook\n",
    "import matplotlib.pyplot as plt\n",
    "import numpy as np\n",
    "from hera_cal.io import HERAData, HERACal\n",
    "from pyuvdata import utils as uvutils, UVData, UVCal\n",
    "import uvtools.plot as plotter"
   ]
  },
  {
   "cell_type": "markdown",
   "metadata": {},
   "source": [
    "## 1) Load the un-calibrated data into a `HERAData` object\n",
    "\n",
    "The data file is at `/lustre/aoc/projects/hera/nkern/CHAMP_Bootcamp/Lesson10_HERADataPartII/data/zen.2458115.25228.xx.HH.uvh5`"
   ]
  },
  {
   "cell_type": "code",
   "execution_count": null,
   "metadata": {},
   "outputs": [],
   "source": [
    "# load the raw data: this may take up to ~15 seconds...\n",
    "hd = HERAData(\"/lustre/aoc/projects/hera/nkern/CHAMP_Bootcamp/Lesson10_HERADataPartII/\" \\\n",
    "              \"data/zen.2458116.24482.xx.HH.OCRU.uvh5\")\n",
    "data, flags, _ = hd.read()"
   ]
  },
  {
   "cell_type": "code",
   "execution_count": null,
   "metadata": {},
   "outputs": [],
   "source": [
    "# recall DataContainer is a pseudo-dictionary: print its keys\n",
    "print(data.keys())"
   ]
  },
  {
   "cell_type": "code",
   "execution_count": null,
   "metadata": {},
   "outputs": [],
   "source": [
    "# make a waterfall plot of data amplitude between antenna 24 & antenna 25\n",
    "plt.figure(figsize=(9, 5))\n",
    "baseline = (24, 25, 'ee')\n",
    "plotter.waterfall(np.abs(data[baseline]), mode='real', mx=.05)\n",
    "plt.xlabel('frequency channel' , fontsize=14)\n",
    "plt.ylabel('times' , fontsize=14)\n",
    "plt.colorbar(label='amplitude')\n",
    "plt.title(\"data amplitude for 24 -- 25\")"
   ]
  },
  {
   "cell_type": "code",
   "execution_count": null,
   "metadata": {},
   "outputs": [],
   "source": [
    "# this time, make a waterfall plot of *visibility phase* between antenna 24 & antenna 25\n",
    "plt.figure(figsize=(9, 5))\n",
    "baseline = (24, 25, 'ee')\n",
    "plotter.waterfall(np.angle(data[baseline]), mode='real')\n",
    "plt.xlabel('frequency channel' , fontsize=14)\n",
    "plt.ylabel('times' , fontsize=14)\n",
    "plt.colorbar(label='phase')\n",
    "plt.title(\"data phase for 24 -- 25\")"
   ]
  },
  {
   "cell_type": "markdown",
   "metadata": {},
   "source": [
    "## start breakout for (2) & (3)\n",
    "\n",
    "I have created a template below, but you need to fill in the details!"
   ]
  },
  {
   "cell_type": "markdown",
   "metadata": {},
   "source": [
    "## 2) Load gain solutions into a `calfits` file\n",
    "\n",
    "Use the `zen.2458116.24482.xx.HH.uv.abs.calfits` file."
   ]
  },
  {
   "cell_type": "code",
   "execution_count": null,
   "metadata": {},
   "outputs": [],
   "source": [
    "# load the gain solutions: gains is a dictionary with antenna numbers as keys! Inspect it!\n",
    "hc = HERACal(\"/lustre/aoc/projects/hera/nkern/CHAMP_Bootcamp/Lesson10_HERADataPartII/\"\n",
    "             \"data/zen.2458116.24482.xx.HH.uv.abs.calfits\")\n",
    "gains, gflags, _, _ = hc.read()"
   ]
  },
  {
   "cell_type": "code",
   "execution_count": null,
   "metadata": {},
   "outputs": [],
   "source": [
    "# print the gains keys\n",
    "print(gains.keys())"
   ]
  },
  {
   "cell_type": "code",
   "execution_count": null,
   "metadata": {},
   "outputs": [],
   "source": [
    "# make a waterfall plot of antenna 24 gain amplitude for \"Jee\" polarization\n",
    "plt.figure(figsize=(9, 5))\n",
    "antenna = (24, 'Jee')\n",
    "# you need to input the gain array from the \"gains\" dictionary into the plotter\n",
    "plotter.waterfall( your_code_here , mode='real', mx=.05)\n",
    "plt.xlabel('frequency channel' , fontsize=14)\n",
    "plt.ylabel('times' , fontsize=14)\n",
    "plt.colorbar(label='amplitude')\n",
    "plt.title(\"calibration amplitude antenna 24\")"
   ]
  },
  {
   "cell_type": "code",
   "execution_count": null,
   "metadata": {},
   "outputs": [],
   "source": [
    "# given that gains[key] returns a 2D array of shape (Ntimes, Nfrequencies),\n",
    "# how do I slice the array to get all times for just frequency channel 512?\n"
   ]
  },
  {
   "cell_type": "code",
   "execution_count": null,
   "metadata": {
    "scrolled": false
   },
   "outputs": [],
   "source": [
    "# make a line plot of all antenna gain amplitudes in one plot, and in another plot gain phases\n",
    "# at frequency channel 512\n",
    "# Hint 1: use a FOR loop over hc.ant_array\n",
    "\n",
    "fig = plt.figure(figsize=(9, 5))\n",
    "\n",
    "# this plot below will be for phase: recall, how do you convert the array to phase?\n",
    "plt.subplot(2, 1, 2)\n",
    "for ant in hc.ant_array:\n",
    "    # plot antenna phases here\n",
    "\n",
    "plt.xlabel('time')\n",
    "plt.ylabel('phase')\n",
    "    \n",
    "# this plot below will be for amplitude: recall, how do you convert the array to amplitude?\n",
    "plt.subplot(2, 1, 1)\n",
    "for ant in hc.ant_array:\n",
    "    # plot antenna amplitudes here\n",
    "\n",
    "plt.ylabel(\"amplitude\")\n",
    "plt.legend(hc.ant_array, ncol=2, borderaxespad=-3, loc=0, fontsize=8)"
   ]
  },
  {
   "cell_type": "markdown",
   "metadata": {},
   "source": [
    "How much does the gain amplitude vary over the course of the file?\n",
    "\n",
    "Do certain antennas look different than others? Which ones? Hint: Try plotting just a few antennas to better distinguish them."
   ]
  },
  {
   "cell_type": "code",
   "execution_count": null,
   "metadata": {},
   "outputs": [],
   "source": []
  },
  {
   "cell_type": "markdown",
   "metadata": {},
   "source": [
    "### next plot the antenna bandpass spectrum (i.e. as a function of frequency) at time bin index 10"
   ]
  },
  {
   "cell_type": "code",
   "execution_count": null,
   "metadata": {},
   "outputs": [],
   "source": [
    "# make a line plot of all antenna gain amplitudes in one plot at time index 30\n",
    "# Hint 1: use a FOR loop over hc.ant_array\n",
    "# Hint 2: use plt.ylim(min, max) to change the y-axis range to focus on the broadband structure\n",
    "\n",
    "fig = plt.figure(figsize=(9, 5))\n",
    "\n",
    "for ant in hc.ant_array:\n",
    "    # plot antenna amplitudes here\n",
    "    \n",
    "#plt.ylim() # uncomment this line to set a min and max value to the y axis\n",
    "plt.xlabel('frequency channel')\n",
    "plt.ylabel('ampltude')\n",
    "plt.legend(hc.ant_array, ncol=2, borderaxespad=-3, loc=1, fontsize=10)"
   ]
  },
  {
   "cell_type": "markdown",
   "metadata": {},
   "source": [
    "What do you see in the gain amplitude across frequency? What might cause these features?"
   ]
  },
  {
   "cell_type": "markdown",
   "metadata": {
    "collapsed": true
   },
   "source": [
    "## 3) Load the model visibility\n",
    "\n",
    "Use the `zen.2458116.24482.xx.HH.uvXRS2` file."
   ]
  },
  {
   "cell_type": "code",
   "execution_count": null,
   "metadata": {},
   "outputs": [],
   "source": [
    "# load the model: this may take up to ~15 seconds\n",
    "hd2 = HERAData('/lustre/aoc/projects/hera/nkern/CHAMP_Bootcamp/Lesson10_HERADataPartII/'\n",
    "               'data/zen.2458116.24482.xx.HH.XRS2.uvh5')\n",
    "model, _, _ = hd2.read(bls=[(24, 25)])"
   ]
  },
  {
   "cell_type": "code",
   "execution_count": null,
   "metadata": {},
   "outputs": [],
   "source": [
    "# make a waterfall plot of model amplitude between antenna 24 & antenna 25\n",
    "# use previous visibility waterfall plot as a template!\n"
   ]
  },
  {
   "cell_type": "markdown",
   "metadata": {},
   "source": [
    "What is different about the model visibility compared to the original data visibiltiy?"
   ]
  },
  {
   "cell_type": "markdown",
   "metadata": {
    "collapsed": true
   },
   "source": [
    "## 4) Apply the calibration solution to the data\n",
    "\n",
    "Recall that for a visibility betweeen antenna i and antenna j, the calibration equation reads:\n",
    "\n",
    "\\begin{align}\n",
    "\\Large V_{ij}^{\\rm data} = g_ig_j^\\ast V_{ij}^{\\rm model}\n",
    "\\end{align}\n",
    "\n",
    "such that we can calculate\n",
    "\n",
    "\\begin{align}\n",
    "\\Large V_{ij}^{\\rm updated\\ data} = V_{ij}^{\\rm data} / (g_i g_j^\\ast)\n",
    "\\end{align}"
   ]
  },
  {
   "cell_type": "markdown",
   "metadata": {},
   "source": [
    "__Note:__ the conjugation $^\\ast$ operation can be done using `np.conj(...)`"
   ]
  },
  {
   "cell_type": "code",
   "execution_count": null,
   "metadata": {},
   "outputs": [],
   "source": [
    "# apply calibration from the gains dictionary to data[(24, 25, 'ee')]\n",
    "V_data = data[]\n",
    "g_24 = gains[]\n",
    "g_25 = gains[]\n",
    "V_update = "
   ]
  },
  {
   "cell_type": "code",
   "execution_count": null,
   "metadata": {},
   "outputs": [],
   "source": [
    "# make a waterfall plot of updated data amplitude\n",
    "\n"
   ]
  },
  {
   "cell_type": "code",
   "execution_count": null,
   "metadata": {},
   "outputs": [],
   "source": [
    "# plot waterfall of model and updated data phase side-by-side\n",
    "plt.figure(figsize=(9, 5))\n",
    "\n",
    "# plot the updated data phase\n",
    "plt.subplot(1, 2, 1)\n",
    "plotter.waterfall()\n",
    "plt.xlabel('xlabel')\n",
    "plt.ylabel('ylabel')\n",
    "plt.title(\"title\")\n",
    "\n",
    "# plot the model phase\n",
    "plt.subplot(1, 2, 2)\n",
    "plotter.waterfall()\n",
    "plt.xlabel('xlabel')\n",
    "plt.ylabel('ylabel')\n",
    "plt.title(\"title\")"
   ]
  },
  {
   "cell_type": "markdown",
   "metadata": {
    "collapsed": true
   },
   "source": [
    "That's the end of the calibration demo! Hopefully you've gained some intuition for how calibration is done and applied to the data. Next we'll look to image the data after applying calibration!"
   ]
  },
  {
   "cell_type": "code",
   "execution_count": null,
   "metadata": {},
   "outputs": [],
   "source": []
  }
 ],
 "metadata": {
  "kernelspec": {
   "display_name": "Python 3",
   "language": "python",
   "name": "python3"
  },
  "language_info": {
   "codemirror_mode": {
    "name": "ipython",
    "version": 3
   },
   "file_extension": ".py",
   "mimetype": "text/x-python",
   "name": "python",
   "nbconvert_exporter": "python",
   "pygments_lexer": "ipython3",
   "version": "3.8.10"
  }
 },
 "nbformat": 4,
 "nbformat_minor": 2
}
