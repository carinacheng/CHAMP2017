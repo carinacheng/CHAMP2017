{
 "cells": [
  {
   "cell_type": "code",
   "execution_count": 2,
   "metadata": {
    "ExecuteTime": {
     "end_time": "2020-06-02T23:27:00.923662Z",
     "start_time": "2020-06-02T23:26:59.693594Z"
    }
   },
   "outputs": [],
   "source": [
    "from __future__ import absolute_import, division, print_function\n",
    "import numpy as np\n",
    "import matplotlib.pyplot as plt\n",
    "%matplotlib notebook \n",
    "import scipy\n",
    "import astropy\n",
    "import healpy"
   ]
  },
  {
   "cell_type": "markdown",
   "metadata": {
    "code_folding": [
     0
    ]
   },
   "source": [
    "# CODING BREAKOUT SOLUTION: Sum of all multiples of 3 and 5"
   ]
  },
  {
   "cell_type": "code",
   "execution_count": 3,
   "metadata": {
    "ExecuteTime": {
     "end_time": "2020-06-02T23:27:00.931183Z",
     "start_time": "2020-06-02T23:27:00.925309Z"
    }
   },
   "outputs": [
    {
     "name": "stdout",
     "output_type": "stream",
     "text": [
      "233168\n",
      "233168\n"
     ]
    }
   ],
   "source": [
    "allNums = np.arange(1000)\n",
    "divby3 = (allNums%3 == 0)\n",
    "divby5 = (allNums%5 == 0)\n",
    "divby3or5 = divby3 | divby5\n",
    "numsDivBy3or5 = allNums[divby3or5]\n",
    "print(np.sum(numsDivBy3or5))\n",
    "\n",
    "# or in one line...\n",
    "print(np.sum(np.arange(1000)[(np.arange(1000)%3 == 0) | (np.arange(1000)%5 == 0)]))"
   ]
  },
  {
   "cell_type": "code",
   "execution_count": null,
   "metadata": {},
   "outputs": [],
   "source": []
  },
  {
   "cell_type": "code",
   "execution_count": null,
   "metadata": {},
   "outputs": [],
   "source": []
  },
  {
   "cell_type": "code",
   "execution_count": null,
   "metadata": {},
   "outputs": [],
   "source": []
  },
  {
   "cell_type": "markdown",
   "metadata": {},
   "source": [
    "# CODING BREAKOUT SOLUTION: Visualizing a radio source catalog\n"
   ]
  },
  {
   "cell_type": "code",
   "execution_count": null,
   "metadata": {
    "ExecuteTime": {
     "end_time": "2020-05-29T21:09:03.441240Z",
     "start_time": "2020-05-29T21:09:03.392214Z"
    }
   },
   "outputs": [],
   "source": [
    "catalog = np.load('GLEAM_Catalog_150MHz.npz')\n",
    "fLim = 5 #Jy\n",
    "print(list(catalog.keys()))\n",
    "fluxes = catalog['fluxes']\n",
    "plt.figure()\n",
    "plt.scatter(catalog['RAs'][fluxes>fLim], catalog['decs'][fluxes>fLim],\n",
    "            s=2*fluxes[fluxes>fLim], c=catalog['spIndices'][fluxes>fLim])\n",
    "#lw=0 removes the outlines, 2*fluxes makes the circles a bit easier to see\n",
    "\n",
    "plt.title(f'GLEAM Sources > {fLim} Jy at 150 MHz')\n",
    "plt.xlabel('Right Ascension (deg)')\n",
    "plt.ylabel('Declination (deg)')\n",
    "cbar = plt.colorbar(label='Spectral Index')"
   ]
  },
  {
   "cell_type": "code",
   "execution_count": null,
   "metadata": {},
   "outputs": [],
   "source": []
  },
  {
   "cell_type": "code",
   "execution_count": null,
   "metadata": {},
   "outputs": [],
   "source": []
  },
  {
   "cell_type": "code",
   "execution_count": null,
   "metadata": {},
   "outputs": [],
   "source": []
  },
  {
   "cell_type": "code",
   "execution_count": null,
   "metadata": {},
   "outputs": [],
   "source": []
  },
  {
   "cell_type": "code",
   "execution_count": null,
   "metadata": {},
   "outputs": [],
   "source": []
  },
  {
   "cell_type": "code",
   "execution_count": null,
   "metadata": {},
   "outputs": [],
   "source": []
  },
  {
   "cell_type": "code",
   "execution_count": null,
   "metadata": {},
   "outputs": [],
   "source": []
  },
  {
   "cell_type": "code",
   "execution_count": null,
   "metadata": {},
   "outputs": [],
   "source": []
  },
  {
   "cell_type": "code",
   "execution_count": null,
   "metadata": {},
   "outputs": [],
   "source": []
  },
  {
   "cell_type": "markdown",
   "metadata": {
    "collapsed": true
   },
   "source": [
    "# CODING BREAKOUT: Plot the Global Sky Model as a function of frequency"
   ]
  },
  {
   "cell_type": "code",
   "execution_count": null,
   "metadata": {
    "ExecuteTime": {
     "end_time": "2020-05-29T18:37:45.983393Z",
     "start_time": "2020-05-29T18:37:45.974480Z"
    }
   },
   "outputs": [],
   "source": [
    "map0 = np.load('GSM/GSM_NSIDE-64_Comp-0.npy')\n",
    "map1 = np.load('GSM/GSM_NSIDE-64_Comp-1.npy')\n",
    "map2 = np.load('GSM/GSM_NSIDE-64_Comp-2.npy')\n",
    "comps = np.loadtxt('GSM/components.dat')\n",
    "freqs = comps[:,0]\n",
    "temps = comps[:,1]\n",
    "W0, W1, W2 = comps[:,2], comps[:,3], comps[:,4]"
   ]
  },
  {
   "cell_type": "code",
   "execution_count": null,
   "metadata": {
    "ExecuteTime": {
     "end_time": "2020-05-29T18:37:46.696936Z",
     "start_time": "2020-05-29T18:37:46.679726Z"
    }
   },
   "outputs": [],
   "source": [
    "from scipy.interpolate import interp1d\n",
    "\n",
    "def GlobalSkyModel(f, maps, freqs, temps, weights):\n",
    "    tempNormalization = np.exp(interp1d(np.log(freqs), np.log(temps), kind='cubic')(np.log(freq))) \n",
    "    #cubic spline interpolation in log(f), log(T)\n",
    "    mapSum = 0\n",
    "    for W,Map in zip(weights,maps):\n",
    "        mapSum += interp1d(np.log(freqs), W, kind='cubic')(np.log(freq)) * Map  \n",
    "        #cubic spline interpolation in log(f), weight\n",
    "    return tempNormalization * mapSum"
   ]
  },
  {
   "cell_type": "code",
   "execution_count": null,
   "metadata": {
    "ExecuteTime": {
     "end_time": "2020-05-29T18:37:47.550999Z",
     "start_time": "2020-05-29T18:37:47.444343Z"
    }
   },
   "outputs": [],
   "source": [
    "#Now plot it using it mollview\n",
    "freq = 150 #MHz\n",
    "GSM = GlobalSkyModel(freq, [map0, map1, map2], freqs, temps, [W0, W1, W2])\n",
    "fig = plt.figure()\n",
    "healpy.mollview(np.log10(GSM), fig=fig.number, title='GSM at '+str(freq)+' MHz', unit='log$_{10}$[T (K)]')"
   ]
  },
  {
   "cell_type": "code",
   "execution_count": null,
   "metadata": {},
   "outputs": [],
   "source": []
  },
  {
   "cell_type": "code",
   "execution_count": null,
   "metadata": {},
   "outputs": [],
   "source": []
  }
 ],
 "metadata": {
  "kernelspec": {
   "display_name": "Python 3",
   "language": "python",
   "name": "python3"
  },
  "language_info": {
   "codemirror_mode": {
    "name": "ipython",
    "version": 3
   },
   "file_extension": ".py",
   "mimetype": "text/x-python",
   "name": "python",
   "nbconvert_exporter": "python",
   "pygments_lexer": "ipython3",
   "version": "3.8.3"
  },
  "toc": {
   "base_numbering": 1,
   "nav_menu": {},
   "number_sections": true,
   "sideBar": true,
   "skip_h1_title": false,
   "title_cell": "Table of Contents",
   "title_sidebar": "Contents",
   "toc_cell": false,
   "toc_position": {},
   "toc_section_display": true,
   "toc_window_display": false
  }
 },
 "nbformat": 4,
 "nbformat_minor": 2
}
