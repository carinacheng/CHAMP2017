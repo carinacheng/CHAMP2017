{
 "cells": [
  {
   "cell_type": "markdown",
   "metadata": {},
   "source": [
    "# Scientific Programming in Python\n",
    "Josh Dillon, [jsdillon@berkeley.edu](mailto:jsdillon@berkeley.edu)\n",
    "\n",
    "In this lesson, we're going to talk about the two foundational packages for data manipulation and analysis: numpy and matplotlib. The goal is a familiarity with the packages, their capabilities, and how they are structured so that you can understand and apply other capabilities they have that you might find out about via the manual or just Google/Stack Overflow.\n",
    "\n",
    "This lesson was adapted from Josh Bloom's Python Bootcamp lectures on [numpy](https://github.com/profjsb/python-bootcamp/blob/master/Lectures/21_NumpyMatplotlib/IntroNumPy.ipynb) and [matplotlib](https://github.com/profjsb/python-bootcamp/blob/master/Lectures/21_NumpyMatplotlib/IntroMatplolib.ipynb)."
   ]
  },
  {
   "cell_type": "code",
   "execution_count": null,
   "metadata": {
    "ExecuteTime": {
     "end_time": "2020-05-29T21:06:28.252104Z",
     "start_time": "2020-05-29T21:06:28.005360Z"
    }
   },
   "outputs": [],
   "source": [
    "from __future__ import absolute_import, division, print_function  # this makes the notebook python 2 and python 3 compatible\n",
    "import numpy as np"
   ]
  },
  {
   "cell_type": "markdown",
   "metadata": {},
   "source": [
    "# Numpy\n",
    "![](Images/numpy.png)\n",
    "For more on numpy, [check out their website.](https://docs.scipy.org/doc/numpy-1.12.0/reference/)"
   ]
  },
  {
   "cell_type": "markdown",
   "metadata": {},
   "source": [
    "## What are numpy arrays and how do they work?\n",
    "Numpy arrays are a lot like default python lists."
   ]
  },
  {
   "cell_type": "code",
   "execution_count": null,
   "metadata": {
    "ExecuteTime": {
     "end_time": "2020-05-29T21:06:28.485522Z",
     "start_time": "2020-05-29T21:06:28.481845Z"
    }
   },
   "outputs": [],
   "source": [
    "lst = [1, 2, 3]\n",
    "npa = np.array([1, 2, 3])\n",
    "print('Python list:', lst)\n",
    "print('Numpy array:', npa)"
   ]
  },
  {
   "cell_type": "markdown",
   "metadata": {},
   "source": [
    "Lists are a bit more general..."
   ]
  },
  {
   "cell_type": "code",
   "execution_count": null,
   "metadata": {
    "ExecuteTime": {
     "end_time": "2020-05-29T21:06:28.772887Z",
     "start_time": "2020-05-29T21:06:28.769833Z"
    }
   },
   "outputs": [],
   "source": [
    "lst = [1.0, 'dog', (1, 2), [[5, 5], [5, 5]], 1.0 + 1.0j, {'a': 7}]\n",
    "print(lst)"
   ]
  },
  {
   "cell_type": "markdown",
   "metadata": {},
   "source": [
    "But lists don't really have a notion of acting upon every element like we would a vector or a matrix."
   ]
  },
  {
   "cell_type": "code",
   "execution_count": null,
   "metadata": {
    "ExecuteTime": {
     "end_time": "2020-05-29T21:06:29.477320Z",
     "start_time": "2020-05-29T21:06:29.473439Z"
    }
   },
   "outputs": [],
   "source": [
    "lst = list(range(4))\n",
    "print('List:', lst, '* 2 =', lst * 2)\n",
    "nparr = np.arange(4)\n",
    "print('Numpy Array:', nparr, '* 2 =', nparr*2)"
   ]
  },
  {
   "cell_type": "markdown",
   "metadata": {},
   "source": [
    "You can always turn a numpy array back into a list. You can make a numpy array from a list, but only if it's homogenous and rectangular."
   ]
  },
  {
   "cell_type": "code",
   "execution_count": null,
   "metadata": {
    "ExecuteTime": {
     "end_time": "2020-05-29T21:06:29.823862Z",
     "start_time": "2020-05-29T21:06:29.820442Z"
    }
   },
   "outputs": [],
   "source": [
    "print(list(np.arange(4)))\n",
    "print(np.array([[1, 2], [3, 4]]))\n",
    "print(np.array([10, [10, 10]]))"
   ]
  },
  {
   "cell_type": "markdown",
   "metadata": {},
   "source": [
    "Unlike lists, numpy arrays know about the type of data using the `dtype` attribute. This will always be the most general datatype needed to describe what's in the array."
   ]
  },
  {
   "cell_type": "code",
   "execution_count": null,
   "metadata": {
    "ExecuteTime": {
     "end_time": "2020-05-29T21:06:30.178190Z",
     "start_time": "2020-05-29T21:06:30.173864Z"
    }
   },
   "outputs": [],
   "source": [
    "print('Array of all integers has dtype =', np.array([[1, 2], [3, 4]]).dtype)\n",
    "print('Array with a float has dtype =', np.array([[1.0, 2], [3, 4]]).dtype)\n",
    "print('Array with a complex number has dtype =', np.array([[1.0 + 1.0j, 2], [3, 4]]).dtype)"
   ]
  },
  {
   "cell_type": "markdown",
   "metadata": {},
   "source": [
    "## Array slicing and multidimensional arrays\n",
    "It's easy to initialize numpy arrays of ones or zeros, even in higher dimensions, or with different data types."
   ]
  },
  {
   "cell_type": "code",
   "execution_count": null,
   "metadata": {
    "ExecuteTime": {
     "end_time": "2020-05-29T21:06:30.633667Z",
     "start_time": "2020-05-29T21:06:30.627610Z"
    }
   },
   "outputs": [],
   "source": [
    "ones_1d = np.ones(5)\n",
    "zeros_1d = np.zeros_like(ones_1d)\n",
    "zeros_2d = np.zeros((3, 5))\n",
    "print(ones_1d, '\\n\\n', zeros_1d, '\\n\\n', zeros_2d)\n",
    "\n",
    "false_1d = np.zeros(5, dtype=bool)\n",
    "complex_2d = np.ones((3, 5), dtype=complex)\n",
    "print('\\n', false_1d, '\\n\\n', complex_2d)"
   ]
  },
  {
   "cell_type": "markdown",
   "metadata": {},
   "source": [
    "And numpy supports all sorts of very useful list slicing (this takes some time to visualize and master)."
   ]
  },
  {
   "cell_type": "code",
   "execution_count": null,
   "metadata": {
    "ExecuteTime": {
     "end_time": "2020-05-29T21:06:31.578344Z",
     "start_time": "2020-05-29T21:06:31.572573Z"
    },
    "scrolled": true
   },
   "outputs": [],
   "source": [
    "nparr = np.arange(10)\n",
    "print('Full array:', nparr)\n",
    "print('First element:', nparr[0])\n",
    "print('Second element:', nparr[1])\n",
    "print('Last element:', nparr[-1])\n",
    "print('Second-to-last element:', nparr[-2])\n",
    "print('First three elements:', nparr[0:3])\n",
    "print('Even elements:', nparr[0::2])\n",
    "print('Odd elements:', nparr[1::2])\n",
    "print('First three odd elements:',nparr[1:6:2] )"
   ]
  },
  {
   "cell_type": "code",
   "execution_count": null,
   "metadata": {
    "ExecuteTime": {
     "end_time": "2020-05-29T21:06:31.775590Z",
     "start_time": "2020-05-29T21:06:31.769945Z"
    }
   },
   "outputs": [],
   "source": [
    "rand_2d = np.random.rand(4,3) #random numbers between 0 and 1\n",
    "print('2d random array:\\n', rand_2d)\n",
    "print('\\nFirst row:\\n', rand_2d[0,:])\n",
    "print('\\nLast column:\\n', rand_2d[:,-1])\n",
    "print('\\nTop left 2x2 square:\\n', rand_2d[0:2,0:2])"
   ]
  },
  {
   "cell_type": "markdown",
   "metadata": {},
   "source": [
    "You can even index an array with an array of booleans or integer indices."
   ]
  },
  {
   "cell_type": "code",
   "execution_count": null,
   "metadata": {
    "ExecuteTime": {
     "end_time": "2020-05-29T21:06:32.212010Z",
     "start_time": "2020-05-29T21:06:32.204465Z"
    }
   },
   "outputs": [],
   "source": [
    "test1 = np.arange(10)\n",
    "test2 = 2*np.arange(10)\n",
    "print('test1 =', test1)\n",
    "print('test2 =', test2)\n",
    "print('Are elements of test1 > 4?', test1 > 4)\n",
    "print('Elements of test2 where corresponding element of test1 > 4:', test2[test1 > 4])\n",
    "print('Elements of test2 where corresponding element of test2 > 4:', test2[test2 > 4])\n",
    "print('Elements 3, 1, and 4 of test2:', test2[[3,1,4]])"
   ]
  },
  {
   "cell_type": "markdown",
   "metadata": {},
   "source": [
    "## Numpy arrays can be so much faster than lists for manipulating data\n",
    "Under the hood, numpy arrays use C code (which is much faster than Python, generally speaking) to perform common mathematical algorithms very quickly."
   ]
  },
  {
   "cell_type": "code",
   "execution_count": null,
   "metadata": {
    "ExecuteTime": {
     "end_time": "2020-05-29T21:06:36.596297Z",
     "start_time": "2020-05-29T21:06:32.854218Z"
    }
   },
   "outputs": [],
   "source": [
    "print('Square each number in x and then append it to a list...')\n",
    "arr = []\n",
    "x = range(10000)\n",
    "%timeit -n 100 for k in x: arr.append(k**2)\n",
    "\n",
    "print('\\nDo the same but with list comprehension...')\n",
    "x = range(10000)\n",
    "%timeit -n 100 [k**2 for k in x]\n",
    "\n",
    "print('\\nNow try with numpy...')\n",
    "x = np.arange(10000)\n",
    "%timeit -n 100 x**2"
   ]
  },
  {
   "cell_type": "markdown",
   "metadata": {},
   "source": [
    "## Numpy also lets you do other math on arrays \n",
    "(You can often also do this on lists too, though the output will generally be numpy arrays)"
   ]
  },
  {
   "cell_type": "code",
   "execution_count": null,
   "metadata": {
    "ExecuteTime": {
     "end_time": "2020-05-29T21:06:36.601988Z",
     "start_time": "2020-05-29T21:06:36.597621Z"
    },
    "scrolled": true
   },
   "outputs": [],
   "source": [
    "print(np.pi)\n",
    "print(np.e)\n",
    "\n",
    "sines = np.sin([np.pi/4 * n for n in range(4)])\n",
    "print(sines)\n",
    "print(type(sines))"
   ]
  },
  {
   "cell_type": "markdown",
   "metadata": {},
   "source": [
    "This is especially useful for doing statistics."
   ]
  },
  {
   "cell_type": "code",
   "execution_count": null,
   "metadata": {
    "ExecuteTime": {
     "end_time": "2020-05-29T21:06:36.607961Z",
     "start_time": "2020-05-29T21:06:36.603337Z"
    },
    "scrolled": true
   },
   "outputs": [],
   "source": [
    "vec1 = np.arange(6)\n",
    "print('vec1: ', vec1)\n",
    "print('sum:', np.sum(vec1))\n",
    "print('mean:', np.mean(vec1))\n",
    "print('median:', np.median(vec1))\n",
    "print('standard deviation:', np.std(vec1))"
   ]
  },
  {
   "cell_type": "markdown",
   "metadata": {},
   "source": [
    "Numpy lets you vectorize lots of mathematical operations."
   ]
  },
  {
   "cell_type": "code",
   "execution_count": null,
   "metadata": {
    "ExecuteTime": {
     "end_time": "2020-05-29T21:06:36.615335Z",
     "start_time": "2020-05-29T21:06:36.609569Z"
    }
   },
   "outputs": [],
   "source": [
    "print('Vector subtraction', np.arange(6) - 3)\n",
    "print('Exponentiation by a constant:', np.arange(6)**2)\n",
    "print('Exponentiation by an array:', 2**np.arange(6))\n",
    "print('Modulo 2:', np.arange(10) % 2)"
   ]
  },
  {
   "cell_type": "markdown",
   "metadata": {},
   "source": [
    "More importantly, numpy is optimized for vector and matrix operations. In general, array operations are performed element-wise:"
   ]
  },
  {
   "cell_type": "code",
   "execution_count": null,
   "metadata": {
    "ExecuteTime": {
     "end_time": "2020-05-29T21:06:36.623933Z",
     "start_time": "2020-05-29T21:06:36.616685Z"
    }
   },
   "outputs": [],
   "source": [
    "arr1 = np.arange(10)\n",
    "arr2 = 2*np.arange(10)\n",
    "print('Multiplication arr1*arr2:\\n', arr1 * arr2)\n",
    "print('Complex scalar multiplication and vector subtraction:\\n', 3.0*arr2 - 1.5j*arr1)\n",
    "mat1 = np.array([[1,2],[3,4]])\n",
    "mat2 = np.array([[0,1],[2,3]])\n",
    "print('\\nmat1 * mat2 =\\n', mat1 * mat2)\n",
    "print('mat1 - mat2 =\\n', mat1 - mat2)\n",
    "print('\\nVector Or:', np.array([False, False, True]) | np.array([False, True, True]))\n",
    "print('Vector And:', np.array([False, False, True]) & np.array([False, True, True]))"
   ]
  },
  {
   "cell_type": "markdown",
   "metadata": {
    "ExecuteTime": {
     "end_time": "2017-05-10T18:16:16.093125",
     "start_time": "2017-05-10T18:16:16.089361"
    }
   },
   "source": [
    "However, we'll often want to do special vector-vector or matrix-vector or matrix-matrix operations in numpy. In particular, np.dot() is a very useful multipurpose tool"
   ]
  },
  {
   "cell_type": "code",
   "execution_count": null,
   "metadata": {
    "ExecuteTime": {
     "end_time": "2020-05-29T21:06:36.634245Z",
     "start_time": "2020-05-29T21:06:36.625141Z"
    }
   },
   "outputs": [],
   "source": [
    "vec1 = np.array(range(5))\n",
    "vec2 = np.array([-1,0,1,-1,0])\n",
    "mat = np.ones((3,5))\n",
    "\n",
    "print('Sum of vec1**2:', np.sum(vec1**2))\n",
    "print('vec1 dot vec1:', np.dot(vec1,vec1))\n",
    "print('vec1 dot vec2:', np.dot(vec1,vec2))\n",
    "print('mat dot vec1:\\n', np.dot(mat,vec1))\n",
    "print('mat times mat transpose:\\n', np.dot(mat,mat.T))\n",
    "print('mat transpose times mat:\\n', np.dot(mat.T,mat))"
   ]
  },
  {
   "cell_type": "markdown",
   "metadata": {},
   "source": [
    "## CODING BREAKOUT: Sum of all multiples of 3 and 5\n",
    "\n",
    "If we list all the natural numbers below 10 that are multiples of 3 or 5, we get 3, 5, 6 and 9. The sum of these multiples is 23. **Find the sum of all the multiples of 3 or 5 below 1000.** Try to solve this problem *without* using `for` loops. \n",
    "\n",
    "(This is problem 1 of [Project Euler](https://projecteuler.net/), a mathematics and coding challenge available free online.)\n",
    "\n",
    "**Hint:** use boolean indexing of numpy arrays. **Extra challenge:** try to solve it in one line."
   ]
  },
  {
   "cell_type": "code",
   "execution_count": null,
   "metadata": {
    "ExecuteTime": {
     "end_time": "2020-05-29T21:06:36.637431Z",
     "start_time": "2020-05-29T21:06:36.635463Z"
    },
    "scrolled": true
   },
   "outputs": [],
   "source": [
    "#Try out your solution here."
   ]
  },
  {
   "cell_type": "markdown",
   "metadata": {},
   "source": [
    "## File input and output with Numpy\n",
    "Numpy lets you save multiple arraus into a dictionary of objects. "
   ]
  },
  {
   "cell_type": "code",
   "execution_count": null,
   "metadata": {
    "ExecuteTime": {
     "end_time": "2020-05-29T21:06:37.780633Z",
     "start_time": "2020-05-29T21:06:37.646927Z"
    }
   },
   "outputs": [],
   "source": [
    "x = np.arange(10)\n",
    "y = np.random.rand(10)\n",
    "np.savez('test_file', x=x, y=y)\n",
    "test = np.load('test_file.npz')\n",
    "print('keys:', list(test.keys()))\n",
    "print('x:', test['x'])\n",
    "print('y:', test['y'])\n",
    "!rm test_file.npz #deletes the file using unix commands"
   ]
  },
  {
   "cell_type": "markdown",
   "metadata": {},
   "source": [
    "# Matplotlib\n",
    "![](Images/matplotlib.svg)\n",
    "For more on matplotlib, [check out their website.](https://matplotlib.org/devdocs/index.html)"
   ]
  },
  {
   "cell_type": "markdown",
   "metadata": {},
   "source": [
    "## Basic plotting with Matplotlib"
   ]
  },
  {
   "cell_type": "code",
   "execution_count": null,
   "metadata": {
    "ExecuteTime": {
     "end_time": "2020-05-29T21:06:40.385736Z",
     "start_time": "2020-05-29T21:06:40.010495Z"
    }
   },
   "outputs": [],
   "source": [
    "import matplotlib.pyplot as plt\n",
    "%matplotlib notebook \n",
    "# This bit of jupyter magic embeds interactive figures "
   ]
  },
  {
   "cell_type": "markdown",
   "metadata": {},
   "source": [
    "The most basic unit is plotting is a figure, an object that contains axes, lines, etc. Create one like this:"
   ]
  },
  {
   "cell_type": "code",
   "execution_count": null,
   "metadata": {
    "ExecuteTime": {
     "end_time": "2020-05-29T21:06:41.061179Z",
     "start_time": "2020-05-29T21:06:41.052754Z"
    },
    "scrolled": false
   },
   "outputs": [],
   "source": [
    "fig = plt.figure()"
   ]
  },
  {
   "cell_type": "markdown",
   "metadata": {},
   "source": [
    "The most basic plot is plt.plot, which plots two lists or numpy arrays as a line plot."
   ]
  },
  {
   "cell_type": "code",
   "execution_count": null,
   "metadata": {
    "ExecuteTime": {
     "end_time": "2020-05-29T21:06:42.745523Z",
     "start_time": "2020-05-29T21:06:42.728072Z"
    },
    "scrolled": true
   },
   "outputs": [],
   "source": [
    "x = np.arange(0,20,.01)\n",
    "y = np.cos(x)\n",
    "plt.plot(x,y);"
   ]
  },
  {
   "cell_type": "markdown",
   "metadata": {},
   "source": [
    "Behind the scenes, Matplotlib knows what the current figure and current axes. You can either plot on the current axis as a function in matplotlib or as a class method on an axis object. Notice that the code below affects the figure above. "
   ]
  },
  {
   "cell_type": "code",
   "execution_count": null,
   "metadata": {
    "ExecuteTime": {
     "end_time": "2020-05-29T21:06:45.779955Z",
     "start_time": "2020-05-29T21:06:45.770211Z"
    },
    "scrolled": false
   },
   "outputs": [],
   "source": [
    "ax = plt.gca()\n",
    "ax.plot(x,y/2)\n",
    "p1 = plt.plot(x,y/3)\n",
    "p2 = plt.plot(x,y/4, axes=ax)"
   ]
  },
  {
   "cell_type": "markdown",
   "metadata": {},
   "source": [
    "Everything in the plot is an object and it has methods and properties."
   ]
  },
  {
   "cell_type": "code",
   "execution_count": null,
   "metadata": {
    "ExecuteTime": {
     "end_time": "2020-05-29T21:06:47.567484Z",
     "start_time": "2020-05-29T21:06:47.563960Z"
    }
   },
   "outputs": [],
   "source": [
    "print(type(fig))\n",
    "print(type(ax))\n",
    "print(type(p1[0]))"
   ]
  },
  {
   "cell_type": "markdown",
   "metadata": {},
   "source": [
    "## Manipulating and customizing plots\n",
    "Matplotlib has an easy shorthand for customizing basic plot marker properties. For more, [see here.](https://matplotlib.org/devdocs/api/_as_gen/matplotlib.pyplot.plot.html#matplotlib.pyplot.plot)"
   ]
  },
  {
   "cell_type": "code",
   "execution_count": null,
   "metadata": {
    "ExecuteTime": {
     "end_time": "2020-05-29T21:06:56.657507Z",
     "start_time": "2020-05-29T21:06:56.630500Z"
    },
    "scrolled": false
   },
   "outputs": [],
   "source": [
    "plt.figure()\n",
    "plt.axis('equal')\n",
    "hera37 = np.loadtxt('antenna_positions_37.txt')\n",
    "hera350 = np.loadtxt('antenna_positions_350.txt')\n",
    "plt.plot(hera350[0:320,0], hera350[0:320,1],'g.') #green dots\n",
    "plt.plot(hera37[:,0], hera37[:,1],'m*'); #magenta stars"
   ]
  },
  {
   "cell_type": "markdown",
   "metadata": {},
   "source": [
    "The next thing you want to do to a plot is make it understandable. That means adding labels and legends."
   ]
  },
  {
   "cell_type": "code",
   "execution_count": null,
   "metadata": {
    "ExecuteTime": {
     "end_time": "2020-05-29T21:06:57.894134Z",
     "start_time": "2020-05-29T21:06:57.867713Z"
    }
   },
   "outputs": [],
   "source": [
    "fig = plt.figure()\n",
    "plt.axis('equal')\n",
    "plt.plot(hera350[0:320,0], hera350[0:320,1],'.', label='HERA-320')\n",
    "plt.plot(hera37[:,0], hera37[:,1],'*', ms=10, label='HERA-37')\n",
    "plt.legend(loc='best')\n",
    "#plt.legend(loc='upper right')\n",
    "plt.xlabel('x-position (m)')\n",
    "plt.ylabel('y-position (m)')\n",
    "plt.title(\"HERA's Phased Build-out of Dishes\")\n",
    "plt.annotate('Start\\nbuilding\\nhere.', xy=hera37[-4,0:2], xytext=(-170, -100), arrowprops={'facecolor':'black'});"
   ]
  },
  {
   "cell_type": "markdown",
   "metadata": {},
   "source": [
    "## Saving figures\n",
    "Generally use PDFs for vector images and pngs for bitmaps. Just change the extension of the filename. You can affect resolution, transparency, padding, and so one with keyword arguments."
   ]
  },
  {
   "cell_type": "code",
   "execution_count": null,
   "metadata": {
    "ExecuteTime": {
     "end_time": "2020-05-29T21:07:04.194458Z",
     "start_time": "2020-05-29T21:07:04.078536Z"
    }
   },
   "outputs": [],
   "source": [
    "plt.savefig('hera_buildout.png')\n",
    "plt.savefig('hera_buildout.pdf')"
   ]
  },
  {
   "cell_type": "code",
   "execution_count": null,
   "metadata": {
    "ExecuteTime": {
     "end_time": "2020-05-29T21:08:22.988411Z",
     "start_time": "2020-05-29T21:08:22.984533Z"
    }
   },
   "outputs": [],
   "source": [
    "from IPython.display import Image\n",
    "Image('hera_buildout.png')"
   ]
  },
  {
   "cell_type": "markdown",
   "metadata": {},
   "source": [
    "## Subplots\n",
    "There's also an easy way to create and manipulate subplots. "
   ]
  },
  {
   "cell_type": "code",
   "execution_count": null,
   "metadata": {
    "ExecuteTime": {
     "end_time": "2020-05-29T21:08:31.087913Z",
     "start_time": "2020-05-29T21:08:30.914460Z"
    }
   },
   "outputs": [],
   "source": [
    "fig, axes = plt.subplots(2,3)\n",
    "x = np.arange(0,20,.01)\n",
    "y = np.cos(x)\n",
    "axes[1,1].plot(x,y,'--')\n",
    "axes[0,2].plot(x,y,'r-')\n",
    "axes[1,0].set_xlabel('x label')\n",
    "axes[0,1].set_title('Title')\n",
    "plt.tight_layout()"
   ]
  },
  {
   "cell_type": "markdown",
   "metadata": {},
   "source": [
    "## Other useful plot types"
   ]
  },
  {
   "cell_type": "markdown",
   "metadata": {},
   "source": [
    "### Log and semilog plots\n",
    "In `%matplotlib notebook` mode, mousing over the plot and pressing `k` or `l` changes the axis scale. "
   ]
  },
  {
   "cell_type": "code",
   "execution_count": null,
   "metadata": {
    "ExecuteTime": {
     "end_time": "2020-05-29T21:08:33.685249Z",
     "start_time": "2020-05-29T21:08:33.168358Z"
    }
   },
   "outputs": [],
   "source": [
    "fig, (ax1,ax2,ax3,ax4) = plt.subplots(1,4,figsize=(10,5))\n",
    "x = np.arange(-5,5,.1)\n",
    "y = np.exp(-x**2/2)\n",
    "ax1.plot(x,y); ax1.set_title('plot')\n",
    "ax2.semilogx(x,y); ax2.set_title('semilogx')\n",
    "ax3.semilogy(x,y); ax3.set_title('semilogy')\n",
    "ax4.loglog(x,y); ax4.set_title('loglog')\n",
    "plt.tight_layout()"
   ]
  },
  {
   "cell_type": "markdown",
   "metadata": {},
   "source": [
    "### Histograms"
   ]
  },
  {
   "cell_type": "code",
   "execution_count": null,
   "metadata": {
    "ExecuteTime": {
     "end_time": "2020-05-29T21:08:35.960282Z",
     "start_time": "2020-05-29T21:08:35.795959Z"
    }
   },
   "outputs": [],
   "source": [
    "plt.figure()\n",
    "x = np.random.randn(10000)\n",
    "plt.hist(x,bins=100)\n",
    "plt.title('Histogram of 10000 Gaussian Random Numbers ($\\mu=0, \\sigma=1$)')\n",
    "plt.xlabel('Random Value'); plt.ylabel('Counts');"
   ]
  },
  {
   "cell_type": "markdown",
   "metadata": {
    "ExecuteTime": {
     "end_time": "2017-06-05T16:41:49.188871",
     "start_time": "2017-06-05T16:41:49.186426"
    }
   },
   "source": [
    "### Error bars"
   ]
  },
  {
   "cell_type": "code",
   "execution_count": null,
   "metadata": {
    "ExecuteTime": {
     "end_time": "2020-05-29T21:08:37.071384Z",
     "start_time": "2020-05-29T21:08:37.045792Z"
    }
   },
   "outputs": [],
   "source": [
    "N = 100\n",
    "x = 1.0*np.arange(N)\n",
    "y = 1.0*np.arange(N)\n",
    "xerr = x/30\n",
    "yerr = y/10\n",
    "x += np.random.randn(N)*xerr\n",
    "y += np.random.randn(N)*yerr\n",
    "plt.figure()\n",
    "plt.errorbar(x,y,fmt='.',yerr=yerr, xerr=xerr)"
   ]
  },
  {
   "cell_type": "markdown",
   "metadata": {},
   "source": [
    "### Images\n",
    "\n",
    "For more on the colormaps available, see [this tutorial](https://matplotlib.org/3.1.0/tutorials/colors/colormaps.html)."
   ]
  },
  {
   "cell_type": "code",
   "execution_count": null,
   "metadata": {
    "ExecuteTime": {
     "end_time": "2020-05-29T21:08:38.459313Z",
     "start_time": "2020-05-29T21:08:38.321006Z"
    }
   },
   "outputs": [],
   "source": [
    "x, y = np.meshgrid(np.arange(14), np.arange(20))\n",
    "z = np.sin(0.5*x)*np.cos(0.52*y)\n",
    "fig, (ax1,ax2,ax3,ax4) = plt.subplots(1,4,figsize=(10,4))\n",
    "\n",
    "ax1.imshow(z); ax1.set_title('Default')\n",
    "ax2.imshow(z,interpolation='none', origin='lower'); ax2.set_title('Moved Origin')\n",
    "ax3.imshow(z,interpolation='none',origin='lower',cmap='inferno'); ax3.set_title('Aanother colormap')\n",
    "ax4.imshow(z,interpolation='none',origin='lower',cmap='seismic'); ax4.set_title('Diverging Colormap')\n",
    "plt.tight_layout()"
   ]
  },
  {
   "cell_type": "markdown",
   "metadata": {},
   "source": [
    "### Scatter plots and colorbars"
   ]
  },
  {
   "cell_type": "code",
   "execution_count": null,
   "metadata": {
    "ExecuteTime": {
     "end_time": "2020-05-29T21:08:42.157565Z",
     "start_time": "2020-05-29T21:08:42.115583Z"
    }
   },
   "outputs": [],
   "source": [
    "plt.figure()\n",
    "mv_gauss = np.random.multivariate_normal([0,0,0], [[1,.8,.8],[.8,1,.8],[.8,.8,1]],1000)\n",
    "plt.scatter(mv_gauss[:,0],mv_gauss[:,1], c=mv_gauss[:,2])\n",
    "plt.xlabel('x'); plt.ylabel('y')\n",
    "plt.colorbar(label='z')\n",
    "plt.title('Correlated 2D Gaussian');"
   ]
  },
  {
   "cell_type": "markdown",
   "metadata": {},
   "source": [
    "### 3D plots\n",
    "This is a 3D scatter plot example, but there are [many more](https://matplotlib.org/mpl_toolkits/mplot3d/tutorial.html), including lines, surfaces, bars, contours, etc."
   ]
  },
  {
   "cell_type": "code",
   "execution_count": null,
   "metadata": {
    "ExecuteTime": {
     "end_time": "2020-05-29T21:08:44.209518Z",
     "start_time": "2020-05-29T21:08:44.178668Z"
    },
    "scrolled": false
   },
   "outputs": [],
   "source": [
    "from mpl_toolkits.mplot3d import Axes3D\n",
    "fig = plt.figure()\n",
    "ax = fig.add_subplot(111, projection='3d')\n",
    "\n",
    "mv_gauss = np.random.multivariate_normal([0,0,0,0], [[1,.8,.8,.8],[.8,1,.8,.8],[.8,.8,1,.8],[.8,.8,.8,1]],500)\n",
    "ax.scatter3D(mv_gauss[:,0],mv_gauss[:,1], mv_gauss[:,2], c=mv_gauss[:,3])\n",
    "ax.set_xlabel('x'); ax.set_ylabel('y'); ax.set_zlabel('z')\n",
    "plt.title('Correlated Multivariate Gaussian');"
   ]
  },
  {
   "cell_type": "markdown",
   "metadata": {},
   "source": [
    "## CODING BREAKOUT: Visualizing a radio source catalog\n",
    "\n",
    "In this exercise you will make a plot showing the properties of point sources \n",
    "\n",
    "You should find GLEAM_Catalog_150MHz.npz in the same folder as this notebook. This catalog was created with the [Murchison Widefiled Array](http://www.mwatelescope.org/science/gleam-survey). Load it in using numpy's `np.load()`. It should contain four data vectors:\n",
    "* 'RAs': the right ascension of each object\n",
    "* 'decs': the declination of each object\n",
    "* 'fluxes': the brightness of each object in Janskies at 150 MHz\n",
    "* 'spIndices': the spectral index $\\alpha$ of each object, so that it's flux $S(\\nu) = S(150\\text{ MHz}) \\left(\\frac{\\nu}{150\\text{ MHz}}\\right)^{-\\alpha}$\n",
    "\n",
    "**Plot right-ascension vs. declination of all point sources above 5 Jy, with marker sizes based flux and colors based on spectral index.**  If you have extra time, try to add a colorbar and label it appropriately.\n",
    "\n",
    "**Hint:** plt.scatter() has keyword arguments 's' and 'c' for size and color.\n",
    "\n",
    "\n"
   ]
  },
  {
   "cell_type": "code",
   "execution_count": null,
   "metadata": {
    "ExecuteTime": {
     "end_time": "2020-05-29T18:26:54.230506Z",
     "start_time": "2020-05-29T18:26:54.228672Z"
    }
   },
   "outputs": [],
   "source": [
    "#Try out your solution here."
   ]
  },
  {
   "cell_type": "markdown",
   "metadata": {},
   "source": [
    "# Other useful packages: Scipy, Astropy, Healpy\n",
    "\n",
    "There are lots of useful packages that can help you do what you want. These three I just want to make you vaguely familiar with."
   ]
  },
  {
   "cell_type": "code",
   "execution_count": null,
   "metadata": {
    "ExecuteTime": {
     "end_time": "2020-05-29T18:26:55.278886Z",
     "start_time": "2020-05-29T18:26:54.783081Z"
    }
   },
   "outputs": [],
   "source": [
    "import scipy\n",
    "import astropy\n",
    "import healpy"
   ]
  },
  {
   "cell_type": "markdown",
   "metadata": {
    "collapsed": true
   },
   "source": [
    "## Scipy\n",
    "[Scipy](https://docs.scipy.org/doc/scipy-0.19.0/reference/) is a powerful tool with a lot of built-in mathematical capabilities. Scipy is developed along with numpy and generally very interoperable with numpy. As a little taste of what it does, scipy is useful for:\n",
    "* Root-finding, minimization, optimization\n",
    "* Curve fitting\n",
    "* Numerical integration and ordinary differential equation solving\n",
    "* Special functions\n",
    "* Signal processing\n",
    "* Interpolation\n",
    "* Linear algebra and sparse matrices\n",
    "* Advanced statistics\n",
    "* Lots more..."
   ]
  },
  {
   "cell_type": "markdown",
   "metadata": {},
   "source": [
    "## Astropy\n",
    "\n",
    "[Astropy](http://www.astropy.org/) is a collection of methods particularly useful to astronomy that are good to be generally aware of. These include:\n",
    "* File I/O (especially FITS)\n",
    "* Dates and times\n",
    "* Astronomical Coordinate Systems\n",
    "* Physical and astrophysical constants\n",
    "* Cosmology calculations\n",
    "* Astrostatistics\n",
    "* Lots more...\n"
   ]
  },
  {
   "cell_type": "markdown",
   "metadata": {},
   "source": [
    "## Healpy\n",
    "\n",
    "The [Healpy package](https://healpy.readthedocs.io/en/latest/) is a convienet way of plotting and manipulating maps in the [HEALPix (Heirarchical Equal-Area isoLatitude Pixelization)](http://healpix.jpl.nasa.gov/) format. This is a very nice way pixelizing a sphere, which is useful in widefield radio astronomy.\n",
    "\n",
    "HEALPix maps have an NSIDE parameter which is a power of 2 which determines the level of pixelization.\n",
    "\n",
    "![](Images/healpix.jpg)\n",
    "\n",
    "Healpy comes with a number of plotting scripts, including Mollview, which performs the [Mollweide Projection](https://en.wikipedia.org/wiki/Mollweide_projection)"
   ]
  },
  {
   "cell_type": "code",
   "execution_count": null,
   "metadata": {
    "ExecuteTime": {
     "end_time": "2020-05-29T18:26:56.750321Z",
     "start_time": "2020-05-29T18:26:56.531855Z"
    }
   },
   "outputs": [],
   "source": [
    "fig = plt.figure(figsize=(10,3))\n",
    "healpy.mollview(np.random.randn(12*2**2), fig=fig.number, sub=131, title='NSIDE=2')\n",
    "healpy.mollview(np.random.randn(12*4**2), fig=fig.number, sub=132, title='NSIDE=4')\n",
    "healpy.mollview(np.random.randn(12*8**2), fig=fig.number, sub=133, title='NSIDE=8')"
   ]
  },
  {
   "cell_type": "markdown",
   "metadata": {
    "collapsed": true
   },
   "source": [
    "## CODING BREAKOUT: Plot the Global Sky Model as a function of frequency\n",
    "\n",
    "The [Global Sky Model (GSM)](http://space.mit.edu/~angelica/gsm/index.html) is a simplified map of the temperautre (in K) of diffuse radio emission, most of which comes from the plane of the galaxy. It includes three spatial maps each of which has a different relative importance at different frequencies. To compute the global sky model at an arbitrary frequency, we use the following formula:\n",
    "\n",
    "$T_{GSM}(\\nu,\\theta,\\phi) = T(\\nu) * \\sum_{n=0}^{n=2} W_n(\\nu) M_n(\\theta,\\phi)$\n",
    "\n",
    "In our case, we have three Healpix maps, and weights $W_n$ specified at a range of frequencies. We've loaded and plotted them below.\n",
    "\n",
    "Now, **finish the function GlobalSkyModel below so that you can map the GSM at an arbitrary frequency using the above formula.**\n",
    "\n",
    "**Hint:** you may find scipy.interpolate.interp1d() helpful. For best results, try a cublic spline (kind='cubic') with $\\log(\\nu)$ and $\\log(T)$."
   ]
  },
  {
   "cell_type": "code",
   "execution_count": null,
   "metadata": {
    "ExecuteTime": {
     "end_time": "2020-05-29T18:27:00.861137Z",
     "start_time": "2020-05-29T18:27:00.441024Z"
    }
   },
   "outputs": [],
   "source": [
    "map0 = np.load('GSM/GSM_NSIDE-64_Comp-0.npy')\n",
    "map1 = np.load('GSM/GSM_NSIDE-64_Comp-1.npy')\n",
    "map2 = np.load('GSM/GSM_NSIDE-64_Comp-2.npy')\n",
    "comps = np.loadtxt('GSM/components.dat')\n",
    "\n",
    "#Plot Healpix Maps\n",
    "fig = plt.figure(figsize=(10,3))\n",
    "healpy.mollview(np.log10(map0), fig=fig.number, sub=131, title='log$_{10}$(Map0)')\n",
    "healpy.mollview(map1, fig=fig.number, sub=132, title='Map1')\n",
    "healpy.mollview(map2, fig=fig.number, sub=133, title='Map2')\n",
    "\n",
    "freqs = comps[:,0]\n",
    "temps = comps[:,1]\n",
    "W0,W1,W2 = comps[:,2], comps[:,3], comps[:,4]\n",
    "\n",
    "#Plot temperature normalization\n",
    "fig, (ax1,ax2) = plt.subplots(1,2,figsize=(8,4))\n",
    "ax1.loglog(freqs,temps,'.-')\n",
    "ax1.set_xlabel('Freq (MHz)')\n",
    "ax1.set_ylabel('Temperature Normalization (K)')\n",
    "\n",
    "#Plot all weights\n",
    "for n,comp in enumerate([W0,W1,W2]): ax2.semilogx(freqs,comp,'.-',label=n)\n",
    "ax2.set_xlabel('Freq (MHz)')\n",
    "ax2.set_ylabel('Weights')\n",
    "plt.legend()\n",
    "plt.tight_layout() #Makes room for axis labels"
   ]
  },
  {
   "cell_type": "code",
   "execution_count": null,
   "metadata": {
    "ExecuteTime": {
     "end_time": "2019-05-23T00:53:17.131258Z",
     "start_time": "2019-05-23T00:53:17.117830Z"
    }
   },
   "outputs": [],
   "source": [
    "from scipy.interpolate import interp1d\n",
    "\n",
    "def GlobalSkyModel(f, maps, freqs, temps, components):\n",
    "    \"Try out your solution here.\"\n",
    "    return GSM"
   ]
  },
  {
   "cell_type": "code",
   "execution_count": null,
   "metadata": {
    "ExecuteTime": {
     "end_time": "2020-05-29T18:27:04.307189Z",
     "start_time": "2020-05-29T18:27:04.265121Z"
    }
   },
   "outputs": [],
   "source": [
    "#Now plot it using it mollview\n",
    "freq = 150 #MHz\n",
    "GSM = GlobalSkyModel(freq, [map0, map1, map2], freqs, temps, [W0, W1, W2])\n",
    "fig = plt.figure()\n",
    "healpy.mollview(np.log10(GSM), fig=fig.number, title='GSM at '+str(freq)+' MHz', unit='log$_{10}$[T (K)]')"
   ]
  },
  {
   "cell_type": "markdown",
   "metadata": {},
   "source": [
    "### Extra challenge homework: Interpolate the GSM onto Horizontal Coordinates\n",
    "\n",
    "* First use [pix2ang](http://healpy.readthedocs.io/en/latest/generated/healpy.pixelfunc.pix2ang.html) to figure out the RA and dec of each pixel in an empty healpix map\n",
    "* Next convert those coordiantes to galactic coordinates using [astropy's built-in coordinate conversion](http://docs.astropy.org/en/stable/coordinates/).\n",
    "* Next use those angles and [get_interp_val](http://healpy.readthedocs.io/en/latest/generated/healpy.pixelfunc.get_interp_val.html) to populate using the map generated above by GlobalSkyModel().\n",
    "\n",
    "The solution should look like [this](https://casper.berkeley.edu/astrobaki/index.php/Radio_Sky):\n",
    "![](Images/haslam.png)"
   ]
  }
 ],
 "metadata": {
  "kernelspec": {
   "display_name": "Python 3",
   "language": "python",
   "name": "python3"
  },
  "language_info": {
   "codemirror_mode": {
    "name": "ipython",
    "version": 3
   },
   "file_extension": ".py",
   "mimetype": "text/x-python",
   "name": "python",
   "nbconvert_exporter": "python",
   "pygments_lexer": "ipython3",
   "version": "3.8.3"
  },
  "toc": {
   "base_numbering": 1,
   "nav_menu": {},
   "number_sections": true,
   "sideBar": true,
   "skip_h1_title": false,
   "title_cell": "Table of Contents",
   "title_sidebar": "Contents",
   "toc_cell": false,
   "toc_position": {},
   "toc_section_display": true,
   "toc_window_display": false
  }
 },
 "nbformat": 4,
 "nbformat_minor": 2
}
